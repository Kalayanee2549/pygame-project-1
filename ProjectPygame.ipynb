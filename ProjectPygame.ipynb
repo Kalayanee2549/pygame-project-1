{
 "cells": [
  {
   "cell_type": "code",
   "execution_count": 3,
   "metadata": {},
   "outputs": [
    {
     "ename": "SystemExit",
     "evalue": "",
     "output_type": "error",
     "traceback": [
      "An exception has occurred, use %tb to see the full traceback.\n",
      "\u001b[1;31mSystemExit\u001b[0m\n"
     ]
    }
   ],
   "source": [
    "import pygame\n",
    "import sys\n",
    "\n",
    "#ประกาศใช้งาน Pygame\n",
    "pygame.init()\n",
    "\n",
    "\n",
    "WIDTH, HEIGHT = 1280, 720\n",
    "\n",
    "screen = pygame.display.set_mode((WIDTH,HEIGHT))\n",
    "pygame.display.set_caption(\"testpygame\")\n",
    "bg_img = pygame.image.load(\"bg picture.png\")\n",
    "\n",
    "play_img = pygame.image.load(\"play button.png\")\n",
    "button_play = play_img.get_rect(topleft=(250, 500))\n",
    "hint_img = pygame.image.load(\"hint button.png\")\n",
    "button_hint = hint_img.get_rect(topleft=(600, 500))\n",
    "home_img = pygame.image.load(\"home button.png\")\n",
    "button_home = home_img.get_rect(topleft=(950, 500))\n",
    "\n",
    "running = True\n",
    "while running:\n",
    "    for event in pygame.event.get():\n",
    "        if event.type == pygame.QUIT:\n",
    "            running = False\n",
    "\n",
    "    screen.blit(bg_img, (0, 0))\n",
    "    screen.blit(play_img, button_play.topleft)\n",
    "    screen.blit(hint_img, button_hint.topleft)\n",
    "    screen.blit(home_img, button_home.topleft)\n",
    "\n",
    "    pygame.display.flip()\n",
    "\n",
    "pygame.quit()\n",
    "sys.exit()"
   ]
  }
 ],
 "metadata": {
  "kernelspec": {
   "display_name": "Python 3",
   "language": "python",
   "name": "python3"
  },
  "language_info": {
   "codemirror_mode": {
    "name": "ipython",
    "version": 3
   },
   "file_extension": ".py",
   "mimetype": "text/x-python",
   "name": "python",
   "nbconvert_exporter": "python",
   "pygments_lexer": "ipython3",
   "version": "3.12.7"
  }
 },
 "nbformat": 4,
 "nbformat_minor": 2
}
